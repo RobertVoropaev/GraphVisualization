{
 "cells": [
  {
   "cell_type": "markdown",
   "metadata": {},
   "source": [
    "# LabelPlacement "
   ]
  },
  {
   "cell_type": "code",
   "execution_count": 149,
   "metadata": {},
   "outputs": [],
   "source": [
    "import pysat.solvers\n",
    "from matplotlib import pyplot as plt\n",
    "from matplotlib.patches import Rectangle\n",
    "from collections import defaultdict"
   ]
  },
  {
   "cell_type": "markdown",
   "metadata": {},
   "source": [
    "## Parser "
   ]
  },
  {
   "cell_type": "code",
   "execution_count": 114,
   "metadata": {},
   "outputs": [],
   "source": [
    "class Parser:\n",
    "    def __init__(self, \n",
    "                 file_path : str, \n",
    "                 area_w : int = 500, \n",
    "                 area_h : int = 500):\n",
    "        \n",
    "        self.area_w, self.area_h = area_w, area_h\n",
    "        self.points = []\n",
    "        counter = 1\n",
    "        \n",
    "        with open(file_path) as f:\n",
    "            for line in f:\n",
    "                (x, y), (w, h), placement_list = self.parse_input(line)\n",
    "\n",
    "                point = {}\n",
    "                point[\"center\"] = (x, y)\n",
    "                point[\"placements\"] = {}\n",
    "                for placement in placement_list:\n",
    "                    pl_x, pl_y = placement\n",
    "                    point[\"placements\"][counter] = [x - pl_x, y - pl_y, w, h]\n",
    "                    if not self.in_area(point[\"placements\"][counter]):\n",
    "                        continue\n",
    "                    counter += 1\n",
    "                self.points.append(point)\n",
    "    \n",
    "    def parse_input(self, line):\n",
    "        center, size, placements = line.strip().split(\"\\t\")\n",
    "        x, y = center.split(\",\")\n",
    "        w, h = size.split(\",\")\n",
    "\n",
    "        placement_list = []\n",
    "        for placement in placements.split(\" \"):\n",
    "            pl_x, pl_y = placement.split(\",\")\n",
    "            placement_list.append((int(pl_x), int(pl_y)))\n",
    "\n",
    "        return (int(x), int(y)), (int(w), int(h)), placement_list\n",
    "    \n",
    "    \n",
    "    def in_area(self, placement):\n",
    "        (x, y, w, h) = placement\n",
    "        if (x >= 0 and x <= self.area_w) and \\\n",
    "           (y >= 0 and y <= self.area_h):\n",
    "            return True\n",
    "        else:\n",
    "            return False"
   ]
  },
  {
   "cell_type": "markdown",
   "metadata": {},
   "source": [
    "### Solver "
   ]
  },
  {
   "cell_type": "code",
   "execution_count": 287,
   "metadata": {},
   "outputs": [],
   "source": [
    "class Solver:\n",
    "    def __init__(self):\n",
    "        self.solver = pysat.solvers.Solver(name=\"mc\")\n",
    "    \n",
    "    \n",
    "    def get_placements(self, points: list):\n",
    "        placements = {}\n",
    "        for point in points:\n",
    "            for key, value in point[\"placements\"].items():\n",
    "                placements[key] = value\n",
    "        return placements\n",
    "    \n",
    "    \n",
    "    def get_intersections(self, placements):\n",
    "        def is_intersect(a, b):\n",
    "            def is_contains(point, placement):\n",
    "                x, y = point\n",
    "                px, py, w, h = placement\n",
    "\n",
    "                if (px <= x and px + w >= x) and \\\n",
    "                   (py <= y and py + h >= y):\n",
    "                        return True\n",
    "                return False\n",
    "\n",
    "            px, py, w, h = a\n",
    "            points = [[px, py], [px+w, py], \n",
    "                      [px, py+h], [px+w, py+w]]\n",
    "\n",
    "            for point in points:\n",
    "                if is_contains(point, b):\n",
    "                    return True\n",
    "            return False\n",
    "        \n",
    "        intersections = defaultdict(set)\n",
    "        \n",
    "        for id1 in placements.keys():\n",
    "            for id2 in placements.keys():\n",
    "                if id1 == id2:\n",
    "                    continue\n",
    "                \n",
    "                if is_intersect(placements[id1], placements[id2]):\n",
    "                    intersections[id1].add(id2)\n",
    "                    \n",
    "        return intersections\n",
    "    \n",
    "    \n",
    "    def add_clause(self, points, placements, intersections):\n",
    "        for point in points:\n",
    "            self.solver.add_clause(list(point[\"placements\"].keys()))\n",
    "        \n",
    "        for id_, placement in placements.items():\n",
    "            for intersect in intersections[id_]:\n",
    "                self.solver.add_clause([-id_, -intersect])\n",
    "    \n",
    "    \n",
    "    def solve(self, points : list):\n",
    "        self.placements = self.get_placements(points)\n",
    "        intersections = self.get_intersections(placements)\n",
    "        \n",
    "        self.add_clause(points, placements, intersections)\n",
    "        \n",
    "        true_placements = []\n",
    "        if self.solver.solve():\n",
    "            for placement in self.solver.get_model():\n",
    "                if placement > 0:\n",
    "                    true_placements.append(placement)\n",
    "            return true_placements\n",
    "        else:\n",
    "            return None"
   ]
  },
  {
   "cell_type": "markdown",
   "metadata": {},
   "source": [
    "## Example "
   ]
  },
  {
   "cell_type": "code",
   "execution_count": 297,
   "metadata": {},
   "outputs": [],
   "source": [
    "def draw_placements(points, true_placements, placements):\n",
    "    fig, ax = plt.subplots(figsize=(10,10))\n",
    "\n",
    "    for point in points:\n",
    "        ax.scatter(point[\"center\"][0], point[\"center\"][1])\n",
    "\n",
    "    for true_pl in true_placements:\n",
    "        plac = placements[true_pl]\n",
    "        ax.add_patch(Rectangle(xy=(plac[0] ,plac[1]), \n",
    "                               width=plac[2], height=plac[3]))"
   ]
  },
  {
   "cell_type": "code",
   "execution_count": 300,
   "metadata": {},
   "outputs": [
    {
     "data": {
      "image/png": "[encoded data removed]",
      "text/plain": [
       "<Figure size 720x720 with 1 Axes>"
      ]
     },
     "metadata": {
      "needs_background": "light"
     },
     "output_type": "display_data"
    }
   ],
   "source": [
    "parser = Parser(file_path=\"in/test.txt\")\n",
    "solver = Solver()\n",
    "true_placements = solver.solve(parser.points)\n",
    "draw_placements(parser.points, frames, solver.placements)\n",
    "plt.savefig(\"out/label_placement.png\")"
   ]
  }
 ],
 "metadata": {
  "kernelspec": {
   "display_name": "Python 3",
   "language": "python",
   "name": "python3"
  },
  "language_info": {
   "codemirror_mode": {
    "name": "ipython",
    "version": 3
   },
   "file_extension": ".py",
   "mimetype": "text/x-python",
   "name": "python",
   "nbconvert_exporter": "python",
   "pygments_lexer": "ipython3",
   "version": "3.8.5"
  }
 },
 "nbformat": 4,
 "nbformat_minor": 4
}
