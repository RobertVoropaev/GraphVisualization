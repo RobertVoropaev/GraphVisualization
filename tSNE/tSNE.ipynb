{
 "cells": [
  {
   "cell_type": "markdown",
   "metadata": {},
   "source": [
    "# Visualization of multidimensional data "
   ]
  },
  {
   "cell_type": "code",
   "execution_count": 147,
   "metadata": {},
   "outputs": [],
   "source": [
    "import numpy as np\n",
    "from matplotlib import pyplot as plt\n",
    "from tqdm import tqdm\n",
    "\n",
    "from sklearn import datasets"
   ]
  },
  {
   "cell_type": "markdown",
   "metadata": {},
   "source": [
    "## Dataset "
   ]
  },
  {
   "cell_type": "code",
   "execution_count": 156,
   "metadata": {},
   "outputs": [
    {
     "data": {
      "text/plain": [
       "<matplotlib.image.AxesImage at 0x7f5354f1eeb0>"
      ]
     },
     "execution_count": 156,
     "metadata": {},
     "output_type": "execute_result"
    },
    {
     "data": {
      "image/png": "[encoded data removed]",
      "text/plain": [
       "<Figure size 432x288 with 1 Axes>"
      ]
     },
     "metadata": {
      "needs_background": "light"
     },
     "output_type": "display_data"
    }
   ],
   "source": [
    "digits  =  datasets.load_digits()\n",
    "\n",
    "X = digits.data / digits.data.max()\n",
    "labels = digits.target\n",
    "\n",
    "plt.imshow(X[0].reshape(8, 8))"
   ]
  },
  {
   "cell_type": "markdown",
   "metadata": {},
   "source": [
    "## t-SNE"
   ]
  },
  {
   "cell_type": "code",
   "execution_count": 168,
   "metadata": {},
   "outputs": [],
   "source": [
    "class TSNE:\n",
    "    def __init__(self, \n",
    "                 dims=2, \n",
    "                 perplexity=30.0, \n",
    "                 alpha = 0.5, \n",
    "                 learning_rate=1000):\n",
    "        \n",
    "        self.dims = dims\n",
    "        self.perplexity = perplexity\n",
    "        self.alpha = alpha\n",
    "        self.learning_rate = learning_rate\n",
    "        self.eps = 1e-4\n",
    "        self.gains_inc = 0.2\n",
    "        self.gains_dec = 0.8\n",
    "                \n",
    "    \n",
    "    def h_beta(self, D, beta = 1.0):\n",
    "        P = np.exp(-D.copy() * beta)\n",
    "        sum_P = sum(P)\n",
    "        H = np.log(sum_P) + beta * np.sum(D * P) / sum_P\n",
    "        P = P / sum_P\n",
    "        return H, P\n",
    "    \n",
    "    \n",
    "    def get_p_values(self, X):\n",
    "        n, d = X.shape\n",
    "        \n",
    "        sum_X = np.sum(np.square(X), 1)\n",
    "        D = np.add(np.add(-2 * np.dot(X, X.T), sum_X).T, sum_X)\n",
    "        P = np.zeros((n, n))\n",
    "        beta = np.ones((n, 1))\n",
    "        logU = np.log(self.perplexity)\n",
    "\n",
    "        for i in tqdm(range(n)):\n",
    "            beta_, beta_max = -np.inf, np.inf\n",
    "            Di = D[i, np.concatenate((np.r_[0 : i], np.r_[i + 1 : n]))]\n",
    "            H, cur_P = self.h_beta(Di, beta[i])\n",
    "\n",
    "            diff = H - logU\n",
    "            while np.abs(diff) > self.eps:\n",
    "                if diff > 0:\n",
    "                    beta_min = beta[i].copy()\n",
    "                    if beta_max == np.inf or beta_max == -np.inf:\n",
    "                        beta[i] = beta[i] * 2.\n",
    "                    else:\n",
    "                        beta[i] = (beta[i] + beta_max) / 2.\n",
    "                else:\n",
    "                    beta_max = beta[i].copy()\n",
    "                    if beta_min == np.inf or beta_min == -np.inf:\n",
    "                        beta[i] = beta[i] / 2.\n",
    "                    else:\n",
    "                        beta[i] = (beta[i] + beta_min) / 2.\n",
    "\n",
    "                H, cur_P = self.h_beta(Di, beta[i])\n",
    "                diff = H - logU\n",
    "\n",
    "            P[i, np.concatenate((np.r_[0 : i], np.r_[i + 1 : n]))] = cur_P\n",
    "\n",
    "        P = P + P.T\n",
    "        P = P / np.sum(P)\n",
    "            \n",
    "        return P\n",
    "    \n",
    "    \n",
    "    def calc_gains(self, gains, grads, dY):\n",
    "        inc = (gains + self.gains_inc) * ((grads > 0) != (dY > 0))\n",
    "        dec = (gains * self.gains_dec) * ((grads > 0) == (dY > 0))\n",
    "        return inc + dec\n",
    "        \n",
    "        \n",
    "    def init_var(self, n):\n",
    "        Y = np.random.randn(n, self.dims)\n",
    "        dY = np.zeros((n, self.dims))\n",
    "        grads = np.zeros((n, self.dims))\n",
    "        gains = np.ones((n, self.dims))\n",
    "        return Y, dY, grads, gains\n",
    "    \n",
    "        \n",
    "    def fit_transform(self, X, n_iter = 100):\n",
    "        n, d = X.shape\n",
    "        Y, dY, grads, gains = self.init_var(n)\n",
    "        P = self.get_p_values(X)\n",
    "        \n",
    "        for j in tqdm(range(n_iter)):\n",
    "            sum_Y = np.sum(np.square(Y), 1)\n",
    "            num = -2. * np.dot(Y, Y.T)\n",
    "            num = 1. / (1. + np.add(np.add(num, sum_Y).T, sum_Y))\n",
    "            Q = num / np.sum(num)\n",
    "            \n",
    "            PQ_diff = P - Q\n",
    "            for i in range(n):\n",
    "                grads[i, :] = np.sum(np.tile(PQ_diff[:, i] * num[:, i], \n",
    "                                             reps=(self.dims, 1)).T * \n",
    "                                     (Y[i, :] - Y), \n",
    "                                     axis=0)\n",
    "\n",
    "            gains = self.calc_gains(gains, grads, dY)\n",
    "            dY = self.alpha * dY - self.learning_rate * (gains * grads)\n",
    "            Y += dY\n",
    "            \n",
    "        return Y"
   ]
  },
  {
   "cell_type": "markdown",
   "metadata": {},
   "source": [
    "## Example "
   ]
  },
  {
   "cell_type": "code",
   "execution_count": null,
   "metadata": {},
   "outputs": [
    {
     "name": "stderr",
     "output_type": "stream",
     "text": [
      "100%|██████████| 1797/1797 [00:08<00:00, 211.70it/s]\n",
      " 19%|█▉        | 94/500 [00:18<01:18,  5.19it/s]"
     ]
    }
   ],
   "source": [
    "tsne = TSNE()\n",
    "Y = tsne.fit_transform(X, n_iter=500)"
   ]
  },
  {
   "cell_type": "code",
   "execution_count": null,
   "metadata": {},
   "outputs": [],
   "source": [
    "plt.figure(figsize=(15, 10))\n",
    "plt.scatter(Y[:, 0], Y[:, 1], s=30, c=digits.target)\n",
    "plt.title(\"MNIST 2-D visialization\")\n",
    "plt.savefig(\"out/mnist.png\")\n",
    "plt.show()"
   ]
  }
 ],
 "metadata": {
  "kernelspec": {
   "display_name": "Python 3",
   "language": "python",
   "name": "python3"
  },
  "language_info": {
   "codemirror_mode": {
    "name": "ipython",
    "version": 3
   },
   "file_extension": ".py",
   "mimetype": "text/x-python",
   "name": "python",
   "nbconvert_exporter": "python",
   "pygments_lexer": "ipython3",
   "version": "3.8.5"
  }
 },
 "nbformat": 4,
 "nbformat_minor": 4
}
